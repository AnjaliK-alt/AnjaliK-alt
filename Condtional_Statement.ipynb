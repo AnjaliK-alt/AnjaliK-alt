{
  "nbformat": 4,
  "nbformat_minor": 0,
  "metadata": {
    "colab": {
      "provenance": []
    },
    "kernelspec": {
      "name": "python3",
      "display_name": "Python 3"
    },
    "language_info": {
      "name": "python"
    }
  },
  "cells": [
    {
      "cell_type": "markdown",
      "source": [
        "## CONDITIONAL STATMENT (IF ELSE)\n",
        "\n",
        "```python\n",
        "if condition:\n",
        "    print(\"execute this statement\")\n",
        "else:\n",
        "    print(\"if condition is not True\")\n",
        "```"
      ],
      "metadata": {
        "id": "pXnKvtCg9jiG"
      }
    },
    {
      "cell_type": "markdown",
      "source": [
        "if its is raining then let's work from home else let's go to office"
      ],
      "metadata": {
        "id": "JXQ51AuE--oQ"
      }
    },
    {
      "cell_type": "code",
      "source": [
        "raining = True\n",
        "\n",
        "if raining: # TRUE CONDITION\n",
        "    print(\"Lets do work from home\") # This statemen exectuted\n",
        "else:\n",
        "    print(\"Lets go to office\")"
      ],
      "metadata": {
        "colab": {
          "base_uri": "https://localhost:8080/"
        },
        "id": "xOUR7OIS9x4d",
        "outputId": "5a239c82-a714-4425-8c9b-697967e1b0cf"
      },
      "execution_count": null,
      "outputs": [
        {
          "output_type": "stream",
          "name": "stdout",
          "text": [
            "Lets do work from home\n"
          ]
        }
      ]
    },
    {
      "cell_type": "markdown",
      "source": [
        "if its is raining then let's work from home else let's go to office"
      ],
      "metadata": {
        "id": "awXnnPAn_oBy"
      }
    },
    {
      "cell_type": "code",
      "source": [
        "raining = False # its not raining\n",
        "\n",
        "if raining: # FALSE CONDITION\n",
        "    print(\"Lets do work from home\") #\n",
        "else:\n",
        "    print(\"Lets go to office\") # This statemen exectuted"
      ],
      "metadata": {
        "colab": {
          "base_uri": "https://localhost:8080/"
        },
        "id": "gMyfg3DY-A4T",
        "outputId": "dc9b8cf3-5922-4d7a-ec88-08eb7e5d1d4d"
      },
      "execution_count": null,
      "outputs": [
        {
          "output_type": "stream",
          "name": "stdout",
          "text": [
            "Lets go to office\n"
          ]
        }
      ]
    },
    {
      "cell_type": "markdown",
      "source": [
        "### use of indentation"
      ],
      "metadata": {
        "id": "VWJBeyxr_vUV"
      }
    },
    {
      "cell_type": "code",
      "source": [
        "raining = True\n",
        "\n",
        "if raining: # TRUE CONDITION\n",
        "  print(\"Lets do work from home\") # This statement exectuted\n",
        "else:\n",
        "    print(\"Lets go to office\")"
      ],
      "metadata": {
        "colab": {
          "base_uri": "https://localhost:8080/"
        },
        "id": "ST3qyBbT_0PH",
        "outputId": "01a58bce-cab9-4fb4-aa4c-48731aab39bf"
      },
      "execution_count": 1,
      "outputs": [
        {
          "output_type": "stream",
          "name": "stdout",
          "text": [
            "Lets do work from home\n"
          ]
        }
      ]
    },
    {
      "cell_type": "code",
      "source": [
        "raining = True\n",
        "\n",
        "if raining: # TRUE CONDITION\n",
        "    print(\"Since its raining...\")\n",
        "    print(\"Lets do work from home\") # This statemen exectuted\n",
        "else:\n",
        "    print(\"Since its not raining...\")\n",
        "    print(\"Lets go to office\")"
      ],
      "metadata": {
        "colab": {
          "base_uri": "https://localhost:8080/"
        },
        "id": "pZwoZJ-KAMl7",
        "outputId": "8c0beb8c-2979-441d-9f04-f94e371c9740"
      },
      "execution_count": null,
      "outputs": [
        {
          "output_type": "stream",
          "name": "stdout",
          "text": [
            "Since its raining...\n",
            "Lets do work from home\n"
          ]
        }
      ]
    },
    {
      "cell_type": "markdown",
      "source": [
        "C language example code\n",
        "```c\n",
        "bool raining = True;\n",
        "\n",
        "if raining{\n",
        "    printf(\"Since its raining...\");\n",
        "    printf(\"Lets do work from home\");\n",
        "    }\n",
        "```"
      ],
      "metadata": {
        "id": "lGEKDa4GAr_Y"
      }
    },
    {
      "cell_type": "markdown",
      "source": [
        "if it's NOT raining then let's let's go to office ELSE let's work from home"
      ],
      "metadata": {
        "id": "aWzigaTMBEtL"
      }
    },
    {
      "cell_type": "code",
      "source": [
        "raining = True\n",
        "\n",
        "if not raining: # False CONDITION\n",
        "    print(\"Since its not raining...\")\n",
        "    print(\"Lets go to office\")\n",
        "else:\n",
        "    print(\"Since its raining...\")\n",
        "    print(\"Lets do work from home\") # This statemen exectuted\n"
      ],
      "metadata": {
        "colab": {
          "base_uri": "https://localhost:8080/"
        },
        "id": "DQse_c1pAaH4",
        "outputId": "270b02ad-4c70-40d6-d817-056c2c79b875"
      },
      "execution_count": null,
      "outputs": [
        {
          "output_type": "stream",
          "name": "stdout",
          "text": [
            "Since its raining...\n",
            "Lets do work from home\n"
          ]
        }
      ]
    },
    {
      "cell_type": "code",
      "source": [
        "raining = False\n",
        "\n",
        "if not raining: # False CONDITION\n",
        "    print(\"Since its not raining...\")\n",
        "    print(\"Lets go to office\")\n",
        "else:\n",
        "    print(\"Since its raining...\")\n",
        "    print(\"Lets do work from home\") # This statemen exectuted"
      ],
      "metadata": {
        "colab": {
          "base_uri": "https://localhost:8080/"
        },
        "id": "iU68nfUNBeoY",
        "outputId": "3615ce50-21d8-484e-bf68-fdee615feb56"
      },
      "execution_count": null,
      "outputs": [
        {
          "output_type": "stream",
          "name": "stdout",
          "text": [
            "Since its not raining...\n",
            "Lets go to office\n"
          ]
        }
      ]
    },
    {
      "cell_type": "code",
      "source": [
        "class_started = False\n",
        "\n",
        "if class_started:\n",
        "    print(\"Lets concentrate\")\n",
        "else:\n",
        "    print(\"Lets revise previous class\")"
      ],
      "metadata": {
        "id": "AHkZL4ET9U0w"
      },
      "execution_count": null,
      "outputs": []
    },
    {
      "cell_type": "markdown",
      "source": [
        "if class started then let's concentrate else revise the previous class"
      ],
      "metadata": {
        "id": "GLdFt2C6B_tX"
      }
    },
    {
      "cell_type": "code",
      "source": [
        "class_started = True\n",
        "\n",
        "if class_started:\n",
        "    print(\"Since class started...\")\n",
        "    print(\"Lets concentrate\")\n",
        "else:\n",
        "    print(\"Since class is not started...\")\n",
        "    print(\"let's revise\")"
      ],
      "metadata": {
        "colab": {
          "base_uri": "https://localhost:8080/"
        },
        "id": "7XiTaYi_9FqD",
        "outputId": "c7e764ae-e67d-4b2e-f495-f5e88c809972"
      },
      "execution_count": null,
      "outputs": [
        {
          "output_type": "stream",
          "name": "stdout",
          "text": [
            "Since class started...\n",
            "Lets concentrate\n"
          ]
        }
      ]
    },
    {
      "cell_type": "code",
      "source": [
        "class_started = False\n",
        "\n",
        "if class_started:\n",
        "    print(\"Since class started...\")\n",
        "    print(\"Lets concentrate\")\n",
        "else:\n",
        "    print(\"Since class is not started...\")\n",
        "    print(\"let's revise\")"
      ],
      "metadata": {
        "colab": {
          "base_uri": "https://localhost:8080/"
        },
        "id": "qpHU0ViTCiIO",
        "outputId": "8ee4b303-900a-4b83-d281-0dd884bb6358"
      },
      "execution_count": null,
      "outputs": [
        {
          "output_type": "stream",
          "name": "stdout",
          "text": [
            "Since class is not started...\n",
            "let's revise\n"
          ]
        }
      ]
    },
    {
      "cell_type": "markdown",
      "source": [
        "if class NOT started then let's revise else let's concentrate class\n"
      ],
      "metadata": {
        "id": "hSNcbIxeCLLc"
      }
    },
    {
      "cell_type": "code",
      "source": [
        "class_started = True\n",
        "\n",
        "if not class_started:\n",
        "    print(\"Since class is not started...\")\n",
        "    print(\"let's revise\")\n",
        "else:\n",
        "    print(\"Since class started...\")\n",
        "    print(\"Lets concentrate\")"
      ],
      "metadata": {
        "colab": {
          "base_uri": "https://localhost:8080/"
        },
        "id": "BpGlrPZJCm5J",
        "outputId": "7ad27baf-2a13-46c9-86c4-25413a5db4af"
      },
      "execution_count": null,
      "outputs": [
        {
          "output_type": "stream",
          "name": "stdout",
          "text": [
            "Since class started...\n",
            "Lets concentrate\n"
          ]
        }
      ]
    },
    {
      "cell_type": "code",
      "source": [
        "class_started = False\n",
        "\n",
        "if not class_started:\n",
        "    print(\"Since class is not started...\")\n",
        "    print(\"let's revise\")\n",
        "else:\n",
        "    print(\"Since class started...\")\n",
        "    print(\"Lets concentrate\")"
      ],
      "metadata": {
        "colab": {
          "base_uri": "https://localhost:8080/"
        },
        "id": "vmOS1sVSCvO9",
        "outputId": "48f2a709-cb25-42d6-b21e-fb33b75b861f"
      },
      "execution_count": null,
      "outputs": [
        {
          "output_type": "stream",
          "name": "stdout",
          "text": [
            "Since class is not started...\n",
            "let's revise\n"
          ]
        }
      ]
    },
    {
      "cell_type": "code",
      "source": [
        "# statements not alligned properly will give indentation error\n",
        "class_started = False\n",
        "\n",
        "if not class_started:\n",
        " print(\"Since class is not started...\")\n",
        "  print(\"let's revise\")\n",
        "else:\n",
        "print(\"Since class started...\")\n",
        "    print(\"Lets concentrate\")"
      ],
      "metadata": {
        "colab": {
          "base_uri": "https://localhost:8080/",
          "height": 133
        },
        "id": "nDvkJzldC0SF",
        "outputId": "f5f37f03-f96e-4a23-f577-829d93fedf64"
      },
      "execution_count": null,
      "outputs": [
        {
          "output_type": "error",
          "ename": "IndentationError",
          "evalue": "ignored",
          "traceback": [
            "\u001b[0;36m  File \u001b[0;32m\"<ipython-input-15-847d202ca599>\"\u001b[0;36m, line \u001b[0;32m5\u001b[0m\n\u001b[0;31m    print(\"let's revise\")\u001b[0m\n\u001b[0m    ^\u001b[0m\n\u001b[0;31mIndentationError\u001b[0m\u001b[0;31m:\u001b[0m unexpected indent\n"
          ]
        }
      ]
    },
    {
      "cell_type": "code",
      "source": [
        "# statements not alligned properly will give indentation error\n",
        "class_started = False\n",
        "\n",
        "if not class_started:\n",
        "    print(\"Since class is not started...\")\n",
        "    print(\"let's revise\")\n",
        "else:\n",
        "    print(\"Since class started...\")\n",
        "    print(\"Lets concentrate\")"
      ],
      "metadata": {
        "colab": {
          "base_uri": "https://localhost:8080/"
        },
        "id": "fuELoFnVDNnp",
        "outputId": "19464836-a4c5-4574-bbdf-ff5326b450a1"
      },
      "execution_count": null,
      "outputs": [
        {
          "output_type": "stream",
          "name": "stdout",
          "text": [
            "Since class is not started...\n",
            "let's revise\n"
          ]
        }
      ]
    },
    {
      "cell_type": "code",
      "source": [
        "# # statements not alligned properly will give indentation error\n",
        "# ## lets take it at the end:\n",
        "# class_started = bool(input(\"Hey friend, is class started?: [0-False/1-True]\"))\n",
        "\n",
        "# if class_started:\n",
        "#     print(\"Since class started...\")\n",
        "#     print(\"Lets concentrate\")\n",
        "# else:\n",
        "#     print(\"Since class is not started...\")\n",
        "#     print(\"let's revise\")"
      ],
      "metadata": {
        "id": "6XmLgIKfDUWN"
      },
      "execution_count": null,
      "outputs": []
    },
    {
      "cell_type": "markdown",
      "source": [
        "### and\t - conditional AND"
      ],
      "metadata": {
        "id": "XfEvZfgxCLIs"
      }
    },
    {
      "cell_type": "markdown",
      "source": [
        "Vegetable | Salt | Dish\n",
        "- | - | -\n",
        "False | False | False\n",
        "False | True | False\n",
        "True | False | False\n",
        "True | True | True\n"
      ],
      "metadata": {
        "id": "TDwCBxf9EhtP"
      }
    },
    {
      "cell_type": "code",
      "source": [
        "vegetable_present = False\n",
        "salt_present = False\n",
        "\n",
        "if vegetable_present and salt_present:\n",
        "    print(\"Its a good dish\")\n",
        "else:\n",
        "    print(\"Its a bad dish\")\n",
        "    print(f\"because vegetable present: {vegetable_present}\")\n",
        "    print(f\"and salt present: {salt_present}\")"
      ],
      "metadata": {
        "colab": {
          "base_uri": "https://localhost:8080/"
        },
        "id": "7QwINhJCEcTV",
        "outputId": "f8c4498d-60c0-4ded-cc1f-8661196a851c"
      },
      "execution_count": null,
      "outputs": [
        {
          "output_type": "stream",
          "name": "stdout",
          "text": [
            "Its a bad dish\n",
            "because vegetable present: False\n",
            "and salt present: False\n"
          ]
        }
      ]
    },
    {
      "cell_type": "code",
      "source": [
        "vegetable_present = False\n",
        "salt_present = True\n",
        "\n",
        "if vegetable_present and salt_present:\n",
        "    print(\"Its a good dish\")\n",
        "else:\n",
        "    print(\"Its a bad dish\")\n",
        "    print(f\"because vegetable present: {vegetable_present}\")\n",
        "    print(f\"and salt present: {salt_present}\")"
      ],
      "metadata": {
        "colab": {
          "base_uri": "https://localhost:8080/"
        },
        "id": "uw5wEuJ9FbAC",
        "outputId": "488d5381-641a-4123-ce07-b203ed6136e3"
      },
      "execution_count": null,
      "outputs": [
        {
          "output_type": "stream",
          "name": "stdout",
          "text": [
            "Its a bad dish\n",
            "because vegetable present: False\n",
            "and salt present: True\n"
          ]
        }
      ]
    },
    {
      "cell_type": "code",
      "source": [
        "vegetable_present = True\n",
        "salt_present = False\n",
        "\n",
        "if vegetable_present and salt_present:\n",
        "    print(\"Its a good dish\")\n",
        "else:\n",
        "    print(\"Its a bad dish\")\n",
        "    print(f\"because vegetable present: {vegetable_present}\")\n",
        "    print(f\"and salt present: {salt_present}\")"
      ],
      "metadata": {
        "colab": {
          "base_uri": "https://localhost:8080/"
        },
        "id": "6_Sm59IBFe4y",
        "outputId": "46305fbb-5d9c-4523-fa31-c97feecbeadc"
      },
      "execution_count": null,
      "outputs": [
        {
          "output_type": "stream",
          "name": "stdout",
          "text": [
            "Its a bad dish\n",
            "because vegetable present: True\n",
            "and salt present: False\n"
          ]
        }
      ]
    },
    {
      "cell_type": "markdown",
      "source": [
        "if vegetable and salt both are present in my dish then only my dish is good."
      ],
      "metadata": {
        "id": "rkuOn0wLFxUK"
      }
    },
    {
      "cell_type": "code",
      "source": [
        "vegetable_present = True\n",
        "salt_present = True\n",
        "\n",
        "if vegetable_present and salt_present: # this condition was true as both the sub conditions are true\n",
        "    print(\"Its a good dish\")\n",
        "else:\n",
        "    print(\"Its a bad dish\")\n",
        "    print(f\"because vegetable present: {vegetable_present}\")\n",
        "    print(f\"and salt present: {salt_present}\")"
      ],
      "metadata": {
        "colab": {
          "base_uri": "https://localhost:8080/"
        },
        "id": "F0Lb-i7uFidU",
        "outputId": "1268c37e-a3b1-4ad7-ec3e-c2f89c49de88"
      },
      "execution_count": null,
      "outputs": [
        {
          "output_type": "stream",
          "name": "stdout",
          "text": [
            "Its a good dish\n"
          ]
        }
      ]
    },
    {
      "cell_type": "code",
      "source": [
        "name = \"Satyam\"\n",
        "print(f\"hi class my name is: {name}\")"
      ],
      "metadata": {
        "colab": {
          "base_uri": "https://localhost:8080/"
        },
        "id": "mOhem16BFkod",
        "outputId": "403da161-e88f-4335-ab96-0bce06480a72"
      },
      "execution_count": null,
      "outputs": [
        {
          "output_type": "stream",
          "name": "stdout",
          "text": [
            "hi class my name is: Satyam\n"
          ]
        }
      ]
    },
    {
      "cell_type": "markdown",
      "source": [
        "### or conditional OR\n",
        "\n",
        "if I have a car or bike then I can travel 100kms in a day\n",
        "\n",
        "Car | Bike | Travel_100_kms\n",
        "- | - | -\n",
        "False | False | False\n",
        "False | True | True\n",
        "True | False | True\n",
        "True | True | True\n"
      ],
      "metadata": {
        "id": "JIy3EisQGj1h"
      }
    },
    {
      "cell_type": "code",
      "source": [
        "i_own_car = False\n",
        "i_own_bike = False\n",
        "\n",
        "if i_own_car or i_own_bike:\n",
        "    print(\"I can travel 100 kms in a day!\")\n",
        "else:\n",
        "    print(\"I am stuck as I don't have car or bike!\")\n"
      ],
      "metadata": {
        "colab": {
          "base_uri": "https://localhost:8080/"
        },
        "id": "gAh8zoHuGR6y",
        "outputId": "360873ea-e62b-457b-f2a2-087f7d32f3f1"
      },
      "execution_count": null,
      "outputs": [
        {
          "output_type": "stream",
          "name": "stdout",
          "text": [
            "I am stuck as I don't have car or bike!\n"
          ]
        }
      ]
    },
    {
      "cell_type": "code",
      "source": [
        "i_own_car = False\n",
        "i_own_bike = True\n",
        "\n",
        "if i_own_car or i_own_bike:\n",
        "    print(\"I can travel 100 kms in a day!\")\n",
        "else:\n",
        "    print(\"I am stuck as I don't have car or bike!\")"
      ],
      "metadata": {
        "colab": {
          "base_uri": "https://localhost:8080/"
        },
        "id": "xpGjRsFSHq8h",
        "outputId": "506bfb9b-c078-47b0-caca-f7252f9a5841"
      },
      "execution_count": null,
      "outputs": [
        {
          "output_type": "stream",
          "name": "stdout",
          "text": [
            "I can travel 100 kms in a day!\n"
          ]
        }
      ]
    },
    {
      "cell_type": "code",
      "source": [
        "i_own_car = True\n",
        "i_own_bike = False\n",
        "\n",
        "if i_own_car or i_own_bike:\n",
        "    print(\"I can travel 100 kms in a day!\")\n",
        "else:\n",
        "    print(\"I am stuck as I don't have car or bike!\")"
      ],
      "metadata": {
        "colab": {
          "base_uri": "https://localhost:8080/"
        },
        "id": "LjiNE40dHvsi",
        "outputId": "c6798bca-6de4-48b8-f1ca-5b8adfe78cf6"
      },
      "execution_count": null,
      "outputs": [
        {
          "output_type": "stream",
          "name": "stdout",
          "text": [
            "I can travel 100 kms in a day!\n"
          ]
        }
      ]
    },
    {
      "cell_type": "code",
      "source": [
        "i_own_car = True\n",
        "i_own_bike = True\n",
        "\n",
        "if i_own_car or i_own_bike:\n",
        "    print(\"I can travel 100 kms in a day!\")\n",
        "else:\n",
        "    print(\"I am stuck as I don't have car or bike!\")"
      ],
      "metadata": {
        "colab": {
          "base_uri": "https://localhost:8080/"
        },
        "id": "nHeAzbbxHz0l",
        "outputId": "d842bfa2-4bfa-4883-f53f-2fd026da8916"
      },
      "execution_count": null,
      "outputs": [
        {
          "output_type": "stream",
          "name": "stdout",
          "text": [
            "I can travel 100 kms in a day!\n"
          ]
        }
      ]
    },
    {
      "cell_type": "markdown",
      "source": [
        "## Conclusion -\n",
        "1. use and operator when you want all the condition to be true\n",
        "2. use or operator if anyone of the condition you want to be true\n"
      ],
      "metadata": {
        "id": "SNcfl0IIIHyu"
      }
    },
    {
      "cell_type": "markdown",
      "source": [
        "### example-\n",
        "\n",
        "attendance | assignment | eligible_for_exam\n",
        "- | - | -\n",
        ">=75% | >=70% | True"
      ],
      "metadata": {
        "id": "vlvTKDV3IT81"
      }
    },
    {
      "cell_type": "code",
      "source": [
        "attendance = 70\n",
        "assignment_submitted = 40\n",
        "\n",
        "print(f\"attendence criteria met? : {attendance >= 75}\")\n",
        "print(f\"assignment criteria met? : {assignment_submitted >= 70}\")\n",
        "\n",
        "if attendance >= 75 and assignment_submitted >= 70:\n",
        "    print(\"The student is eligible to appear in final exam\")\n",
        "else:\n",
        "    print(\"The student is not eligible\")"
      ],
      "metadata": {
        "colab": {
          "base_uri": "https://localhost:8080/"
        },
        "id": "Rpo9cqspH29t",
        "outputId": "53397236-6124-49bb-e284-962290caee0f"
      },
      "execution_count": null,
      "outputs": [
        {
          "output_type": "stream",
          "name": "stdout",
          "text": [
            "attendence criteria met? : False\n",
            "assignment criteria met? : False\n",
            "The student is not eligible\n"
          ]
        }
      ]
    },
    {
      "cell_type": "code",
      "source": [
        "attendance = 90\n",
        "assignment_submitted = 40\n",
        "\n",
        "print(f\"attendence criteria met? : {attendance >= 75}\")\n",
        "print(f\"assignment criteria met? : {assignment_submitted >= 70}\")\n",
        "\n",
        "if attendance >= 75 and assignment_submitted >= 70:\n",
        "    print(\"The student is eligible to appear in final exam\")\n",
        "else:\n",
        "    print(\"The student is not eligible\")"
      ],
      "metadata": {
        "colab": {
          "base_uri": "https://localhost:8080/"
        },
        "id": "XrgYzvrZJWjT",
        "outputId": "92709e34-b623-4f31-8945-0fd2c089c9fb"
      },
      "execution_count": null,
      "outputs": [
        {
          "output_type": "stream",
          "name": "stdout",
          "text": [
            "attendence criteria met? : True\n",
            "assignment criteria met? : False\n",
            "The student is not eligible\n"
          ]
        }
      ]
    },
    {
      "cell_type": "code",
      "source": [
        "attendance = 90\n",
        "assignment_submitted = 90\n",
        "\n",
        "print(f\"attendence criteria met? : {attendance >= 75}\")\n",
        "print(f\"assignment criteria met? : {assignment_submitted >= 70}\")\n",
        "\n",
        "if attendance >= 75 and assignment_submitted >= 70:\n",
        "    print(\"The student is eligible to appear in final exam\")\n",
        "else:\n",
        "    print(\"The student is not eligible\")"
      ],
      "metadata": {
        "colab": {
          "base_uri": "https://localhost:8080/"
        },
        "id": "ht_3wIjlJb0j",
        "outputId": "263521ab-ca03-4aec-a685-9d42fa9c7b7d"
      },
      "execution_count": null,
      "outputs": [
        {
          "output_type": "stream",
          "name": "stdout",
          "text": [
            "attendence criteria met? : True\n",
            "assignment criteria met? : True\n",
            "The student is eligible to appear in final exam\n"
          ]
        }
      ]
    },
    {
      "cell_type": "markdown",
      "source": [
        "\n",
        "credit_card | debit_card | purchase_book_from_amazon\n",
        "- | - | -\n",
        "True | True | True\n",
        "False | False | True"
      ],
      "metadata": {
        "id": "r5PmQsvyKNkC"
      }
    },
    {
      "cell_type": "code",
      "source": [
        "own_credit_card = False\n",
        "own_debit_card = False\n",
        "\n",
        "if own_credit_card or own_debit_card:\n",
        "    print(\"proceed further for payment\")\n",
        "else:\n",
        "    print(\"Ask from a dad for debit or credit card?\")\n",
        "    print(\"cash on delivery?\")"
      ],
      "metadata": {
        "colab": {
          "base_uri": "https://localhost:8080/"
        },
        "id": "z7XNinw9Jfyt",
        "outputId": "c4e48219-1559-4299-ce0c-915d8fa5138d"
      },
      "execution_count": null,
      "outputs": [
        {
          "output_type": "stream",
          "name": "stdout",
          "text": [
            "Ask from a dad for debit or credit card?\n",
            "cash on delivery?\n"
          ]
        }
      ]
    },
    {
      "cell_type": "code",
      "source": [
        "own_credit_card = False\n",
        "own_debit_card = True\n",
        "\n",
        "if own_credit_card or own_debit_card:\n",
        "    print(\"proceed further for payment\")\n",
        "else:\n",
        "    print(\"Ask from a dad for debit or credit card?\")\n",
        "    print(\"cash on delivery?\")"
      ],
      "metadata": {
        "colab": {
          "base_uri": "https://localhost:8080/"
        },
        "id": "kDafwDCnLWaB",
        "outputId": "af167c40-bd4b-4a9b-ada0-c70c43ccb356"
      },
      "execution_count": null,
      "outputs": [
        {
          "output_type": "stream",
          "name": "stdout",
          "text": [
            "proceed further for payment\n"
          ]
        }
      ]
    },
    {
      "cell_type": "code",
      "source": [
        "own_credit_card = False\n",
        "own_debit_card = False\n",
        "Net_banking = True\n",
        "\n",
        "if own_credit_card or own_debit_card or Net_banking:\n",
        "    print(\"proceed further for payment\")\n",
        "else:\n",
        "    print(\"Ask from a dad for debit or credit card?\")\n",
        "    print(\"cash on delivery?\")"
      ],
      "metadata": {
        "colab": {
          "base_uri": "https://localhost:8080/"
        },
        "id": "W81DQt9PLUu8",
        "outputId": "00d4f8a8-e37e-4299-a24d-ea787d691449"
      },
      "execution_count": null,
      "outputs": [
        {
          "output_type": "stream",
          "name": "stdout",
          "text": [
            "proceed further for payment\n"
          ]
        }
      ]
    },
    {
      "cell_type": "markdown",
      "source": [
        "## and or together\n",
        "\n",
        "attendance | assignment | sports_player | eligible_for_exam\n",
        "- | - | - | -\n",
        ">=75% | >=70% | False | True\n",
        ">=75% | >=70% | True | True"
      ],
      "metadata": {
        "id": "TZGaaIpIPEy9"
      }
    },
    {
      "cell_type": "code",
      "source": [
        "attendance = 70\n",
        "assignment_submitted = 40\n",
        "sports_player = True\n",
        "\n",
        "print(f\"attendence criteria met? : {attendance >= 75}\")\n",
        "print(f\"assignment criteria met? : {assignment_submitted >= 70}\")\n",
        "print(f\"sports criteria met? : {sports_player}\")\n",
        "\n",
        "if attendance >= 75 and assignment_submitted >= 70:\n",
        "    if sports_player:\n",
        "        print(\"The student is eligible to appear in final exam\")\n",
        "    else:\n",
        "        print(\"The student is eligible to appear in final exam\")\n",
        "else:\n",
        "    print(\"The student is not eligible\")"
      ],
      "metadata": {
        "colab": {
          "base_uri": "https://localhost:8080/"
        },
        "id": "75QF1z_oLlzb",
        "outputId": "b7db3c7e-15cc-4af1-c367-3719d91fa947"
      },
      "execution_count": null,
      "outputs": [
        {
          "output_type": "stream",
          "name": "stdout",
          "text": [
            "attendence criteria met? : False\n",
            "assignment criteria met? : False\n",
            "sports criteria met? : True\n",
            "The student is not eligible\n"
          ]
        }
      ]
    },
    {
      "cell_type": "markdown",
      "source": [
        "if attendence is more than 75% and assignment completed more than 70% OR the student is sports player then only the student is eligible for exam\n",
        "\n",
        "if you are sports player then you will get grace marks = +10"
      ],
      "metadata": {
        "id": "qJQnxlSKRHVD"
      }
    },
    {
      "cell_type": "code",
      "source": [
        "# complex conditional casses as mentioned above -\n",
        "attendance = 90 # mendatory\n",
        "assignment_submitted = 75 # mendatory\n",
        "sports_player = False # not mendatory\n",
        "\n",
        "print(f\"attendence criteria met? : {attendance >= 75}\")\n",
        "print(f\"assignment criteria met? : {assignment_submitted >= 70}\")\n",
        "print(f\"sports criteria met? : {sports_player}\")\n",
        "\n",
        "if attendance >= 75 and assignment_submitted >= 70:\n",
        "    if sports_player:\n",
        "        print(\"The student is can get grace marks = +10\")\n",
        "    else:\n",
        "        print(\"The student is eligible to appear in final exam but not extra grace marks\")\n",
        "else:\n",
        "    print(\"The student is not eligible\")"
      ],
      "metadata": {
        "colab": {
          "base_uri": "https://localhost:8080/"
        },
        "id": "rRoWUMhSPrf3",
        "outputId": "294198df-ab06-465a-a49c-ce808e8a31ad"
      },
      "execution_count": null,
      "outputs": [
        {
          "output_type": "stream",
          "name": "stdout",
          "text": [
            "attendence criteria met? : True\n",
            "assignment criteria met? : True\n",
            "sports criteria met? : False\n",
            "The student is eligible to appear in final exam but not extra grace marks\n"
          ]
        }
      ]
    },
    {
      "cell_type": "code",
      "source": [
        "# complex conditional casses as mentioned above -\n",
        "attendance = 90 # mendatory\n",
        "assignment_submitted = 75 # mendatory\n",
        "sports_player = True # not mendatory\n",
        "\n",
        "print(f\"attendence criteria met? : {attendance >= 75}\")\n",
        "print(f\"assignment criteria met? : {assignment_submitted >= 70}\")\n",
        "print(f\"sports criteria met? : {sports_player}\")\n",
        "\n",
        "if attendance >= 75 and assignment_submitted >= 70:\n",
        "    if sports_player:\n",
        "        print(\"The student can get grace marks = +10\")\n",
        "    else:\n",
        "        print(\"The student is eligible to appear in final exam but not extra grace marks\")\n",
        "else:\n",
        "    print(\"The student is not eligible\")"
      ],
      "metadata": {
        "colab": {
          "base_uri": "https://localhost:8080/"
        },
        "id": "AIrANriDQ3hK",
        "outputId": "02e63e25-f551-4776-ec96-566f0858d98c"
      },
      "execution_count": null,
      "outputs": [
        {
          "output_type": "stream",
          "name": "stdout",
          "text": [
            "attendence criteria met? : True\n",
            "assignment criteria met? : True\n",
            "sports criteria met? : True\n",
            "The student can get grace marks = +10\n"
          ]
        }
      ]
    },
    {
      "cell_type": "code",
      "source": [
        "# complex conditional casses as mentioned above -\n",
        "attendance = 90 # mendatory\n",
        "assignment_submitted = 40 # mendatory\n",
        "sports_player = True # not mendatory\n",
        "\n",
        "print(f\"attendence criteria met? : {attendance >= 75}\")\n",
        "print(f\"assignment criteria met? : {assignment_submitted >= 70}\")\n",
        "print(f\"sports criteria met? : {sports_player}\")\n",
        "\n",
        "if attendance >= 75 and assignment_submitted >= 70:\n",
        "    if sports_player:\n",
        "        print(\"The student can get grace marks = +10\")\n",
        "    else:\n",
        "        print(\"The student is eligible to appear in final exam but not extra grace marks\")\n",
        "else:\n",
        "    print(\"The student is not eligible\")"
      ],
      "metadata": {
        "colab": {
          "base_uri": "https://localhost:8080/"
        },
        "id": "KAQZt6cBSAIK",
        "outputId": "e7d342ed-5825-4944-e268-cfb7af359d9f"
      },
      "execution_count": null,
      "outputs": [
        {
          "output_type": "stream",
          "name": "stdout",
          "text": [
            "attendence criteria met? : True\n",
            "assignment criteria met? : False\n",
            "sports criteria met? : True\n",
            "The student is not eligible\n"
          ]
        }
      ]
    },
    {
      "cell_type": "markdown",
      "source": [
        "## Equality Operators"
      ],
      "metadata": {
        "id": "buLf2YffSwvf"
      }
    },
    {
      "cell_type": "markdown",
      "source": [
        "Operator | uses | Meaning\n",
        "- | - | -\n",
        "is | A is B=> | return True if A and B points to the same object   \n",
        "is not | A is not B | returns True if A and B do not points to the same object\n",
        "== | A == B | A is equal to B\n",
        "!= | A != B | A is not equal to B\n",
        "\n",
        "When using `is` then we are also comparing memory location\n",
        "When using `is not` then we are also comparing memory location\n",
        "\n",
        "== and != is only checking value of the variables [Used more offently or frequently]"
      ],
      "metadata": {
        "id": "w3QYks7ITHR5"
      }
    },
    {
      "cell_type": "code",
      "source": [
        "A = 1\n",
        "B = 1\n",
        "\n",
        "if A is B:\n",
        "    print(\"A and B are same\")\n",
        "else:\n",
        "    print(\"A and B are not same\")"
      ],
      "metadata": {
        "colab": {
          "base_uri": "https://localhost:8080/"
        },
        "id": "xi47sk5mSHG8",
        "outputId": "b924c01f-3cef-4e82-8091-2ae244a18df0"
      },
      "execution_count": null,
      "outputs": [
        {
          "output_type": "stream",
          "name": "stdout",
          "text": [
            "A and B are same\n"
          ]
        }
      ]
    },
    {
      "cell_type": "code",
      "source": [
        "id(A)"
      ],
      "metadata": {
        "colab": {
          "base_uri": "https://localhost:8080/"
        },
        "id": "DvAQzxNSVP2n",
        "outputId": "07c6c217-873f-4e5d-a495-c20f9e268934"
      },
      "execution_count": null,
      "outputs": [
        {
          "output_type": "execute_result",
          "data": {
            "text/plain": [
              "11122592"
            ]
          },
          "metadata": {},
          "execution_count": 61
        }
      ]
    },
    {
      "cell_type": "code",
      "source": [
        "id(B)"
      ],
      "metadata": {
        "colab": {
          "base_uri": "https://localhost:8080/"
        },
        "id": "uRGjpfCsVgDX",
        "outputId": "2a87b3b8-d3fe-4ff2-e555-054b6289dd03"
      },
      "execution_count": null,
      "outputs": [
        {
          "output_type": "execute_result",
          "data": {
            "text/plain": [
              "11122592"
            ]
          },
          "metadata": {},
          "execution_count": 62
        }
      ]
    },
    {
      "cell_type": "code",
      "source": [
        "A = 1\n",
        "B = 2\n",
        "\n",
        "if A is B:\n",
        "    print(\"A and B are same\")\n",
        "else:\n",
        "    print(\"A and B are not same\")"
      ],
      "metadata": {
        "colab": {
          "base_uri": "https://localhost:8080/"
        },
        "id": "RbJ4QJRbUrq3",
        "outputId": "c7766155-6a1b-4e25-f8ab-d5565f76c3b9"
      },
      "execution_count": null,
      "outputs": [
        {
          "output_type": "stream",
          "name": "stdout",
          "text": [
            "A and B are not same\n"
          ]
        }
      ]
    },
    {
      "cell_type": "code",
      "source": [
        "A = 1\n",
        "B = 2\n",
        "\n",
        "if A is not B:\n",
        "    print(\"A and B are not same\")\n",
        "else:\n",
        "    print(\"A and B are same\")"
      ],
      "metadata": {
        "colab": {
          "base_uri": "https://localhost:8080/"
        },
        "id": "O3TuMPc1UuMY",
        "outputId": "936bbb15-df9f-43f4-9976-96aca18406a3"
      },
      "execution_count": null,
      "outputs": [
        {
          "output_type": "stream",
          "name": "stdout",
          "text": [
            "A and B are not same\n"
          ]
        }
      ]
    },
    {
      "cell_type": "code",
      "source": [
        "A = 1\n",
        "B = 1\n",
        "\n",
        "if A == B: # A and B are having same value\n",
        "    print(\"A and B are same\")\n",
        "else:\n",
        "    print(\"A and B are not same\")"
      ],
      "metadata": {
        "colab": {
          "base_uri": "https://localhost:8080/"
        },
        "id": "f5Z69SfrU4GV",
        "outputId": "ff8d3f25-ea53-4a7c-bfd6-a49a1fc6e046"
      },
      "execution_count": null,
      "outputs": [
        {
          "output_type": "stream",
          "name": "stdout",
          "text": [
            "A and B are same\n"
          ]
        }
      ]
    },
    {
      "cell_type": "code",
      "source": [
        "A = 1\n",
        "B = 2\n",
        "\n",
        "if A != B:\n",
        "    print(\"A and B are not same\")\n",
        "else:\n",
        "    print(\"A and B are same\")"
      ],
      "metadata": {
        "colab": {
          "base_uri": "https://localhost:8080/"
        },
        "id": "CVqOdogIVAL6",
        "outputId": "f4249b5e-306f-4d05-fcd0-84c8cce0e908"
      },
      "execution_count": null,
      "outputs": [
        {
          "output_type": "stream",
          "name": "stdout",
          "text": [
            "A and B are not same\n"
          ]
        }
      ]
    },
    {
      "cell_type": "code",
      "source": [
        "A = \"Sunny\"\n",
        "B = \"Sunny\"\n",
        "\n",
        "A is B"
      ],
      "metadata": {
        "colab": {
          "base_uri": "https://localhost:8080/"
        },
        "id": "g-Dg2OtzVFwK",
        "outputId": "b9a83b4b-f9c0-4968-8bc1-8d2b548310c3"
      },
      "execution_count": null,
      "outputs": [
        {
          "output_type": "execute_result",
          "data": {
            "text/plain": [
              "True"
            ]
          },
          "metadata": {},
          "execution_count": 63
        }
      ]
    },
    {
      "cell_type": "code",
      "source": [
        "A = [\"Sunny\", \"Rishav\"]  # list data structure # array in other language\n",
        "B = [\"Sunny\", \"Rishav\"]  # list data structure\n",
        "\n",
        "A is B"
      ],
      "metadata": {
        "colab": {
          "base_uri": "https://localhost:8080/"
        },
        "id": "CVyS61YGVwWU",
        "outputId": "066c1cfc-46f5-419a-896a-61972793f190"
      },
      "execution_count": null,
      "outputs": [
        {
          "output_type": "execute_result",
          "data": {
            "text/plain": [
              "False"
            ]
          },
          "metadata": {},
          "execution_count": 69
        }
      ]
    },
    {
      "cell_type": "code",
      "source": [
        "A == B"
      ],
      "metadata": {
        "colab": {
          "base_uri": "https://localhost:8080/"
        },
        "id": "IZaIk1EOXONm",
        "outputId": "527acfea-4a65-4257-df69-eebd1e664d70"
      },
      "execution_count": null,
      "outputs": [
        {
          "output_type": "execute_result",
          "data": {
            "text/plain": [
              "True"
            ]
          },
          "metadata": {},
          "execution_count": 70
        }
      ]
    },
    {
      "cell_type": "code",
      "source": [
        "A is not B"
      ],
      "metadata": {
        "colab": {
          "base_uri": "https://localhost:8080/"
        },
        "id": "CE9em2w7Wmrd",
        "outputId": "d3589738-1b76-4046-cd4f-c991e99c6984"
      },
      "execution_count": null,
      "outputs": [
        {
          "output_type": "execute_result",
          "data": {
            "text/plain": [
              "True"
            ]
          },
          "metadata": {},
          "execution_count": 67
        }
      ]
    },
    {
      "cell_type": "code",
      "source": [
        "id(A)"
      ],
      "metadata": {
        "colab": {
          "base_uri": "https://localhost:8080/"
        },
        "id": "NKSGJjplWRUs",
        "outputId": "01aee573-8406-4905-b8c6-4124788c4ec6"
      },
      "execution_count": null,
      "outputs": [
        {
          "output_type": "execute_result",
          "data": {
            "text/plain": [
              "140261839205312"
            ]
          },
          "metadata": {},
          "execution_count": 65
        }
      ]
    },
    {
      "cell_type": "code",
      "source": [
        "id(B)"
      ],
      "metadata": {
        "colab": {
          "base_uri": "https://localhost:8080/"
        },
        "id": "LhJDhZzJWYyH",
        "outputId": "35f14a62-7f8d-4f78-866d-e8c0492de1c2"
      },
      "execution_count": null,
      "outputs": [
        {
          "output_type": "execute_result",
          "data": {
            "text/plain": [
              "140261838852176"
            ]
          },
          "metadata": {},
          "execution_count": 66
        }
      ]
    },
    {
      "cell_type": "code",
      "source": [
        "A = int(input(\"Enter the value of A: \"))\n",
        "B = int(input(\"Enter the value of B: \"))\n",
        "\n",
        "A is B"
      ],
      "metadata": {
        "colab": {
          "base_uri": "https://localhost:8080/"
        },
        "id": "Uko09QAsWbF5",
        "outputId": "27f43b49-df13-4e55-a9a7-8460b01ace5c"
      },
      "execution_count": null,
      "outputs": [
        {
          "name": "stdout",
          "output_type": "stream",
          "text": [
            "Enter the value of A: 1\n",
            "Enter the value of B: 1\n"
          ]
        },
        {
          "output_type": "execute_result",
          "data": {
            "text/plain": [
              "True"
            ]
          },
          "metadata": {},
          "execution_count": 72
        }
      ]
    },
    {
      "cell_type": "code",
      "source": [
        "A = 1\n",
        "B = int(input(\"Enter the value of B: \"))\n",
        "\n",
        "A is B"
      ],
      "metadata": {
        "colab": {
          "base_uri": "https://localhost:8080/"
        },
        "id": "6TBEH7qAXU2J",
        "outputId": "9795c2f9-1ba6-4979-9dfc-d621dc47d007"
      },
      "execution_count": null,
      "outputs": [
        {
          "name": "stdout",
          "output_type": "stream",
          "text": [
            "Enter the value of B: 1\n"
          ]
        },
        {
          "output_type": "execute_result",
          "data": {
            "text/plain": [
              "True"
            ]
          },
          "metadata": {},
          "execution_count": 73
        }
      ]
    },
    {
      "cell_type": "code",
      "source": [
        "name = input(\"Enter your name: \")\n",
        "\n",
        "if name == \"Sunny Bhaveen Chandra\":\n",
        "    print(f\"He is the mentor\")\n",
        "else:\n",
        "    print(f\"Its possible that he/she is a student\")"
      ],
      "metadata": {
        "colab": {
          "base_uri": "https://localhost:8080/"
        },
        "id": "Kz4_A_YTXgDH",
        "outputId": "14ce06d7-8a9c-4b50-ac94-61b32f39bb44"
      },
      "execution_count": null,
      "outputs": [
        {
          "output_type": "stream",
          "name": "stdout",
          "text": [
            "Enter your name: Sunny Bhaveen Chandra\n",
            "He is the mentor\n"
          ]
        }
      ]
    },
    {
      "cell_type": "code",
      "source": [
        "name = input(\"Enter your name: \")\n",
        "\n",
        "if name == \"Sunny Bhaveen Chandra\":\n",
        "    print(f\"He is the mentor\")\n",
        "else:\n",
        "    print(f\"Its possible that he/she is a student\")"
      ],
      "metadata": {
        "colab": {
          "base_uri": "https://localhost:8080/"
        },
        "id": "MV1K8gM6YA70",
        "outputId": "1f104e38-7831-4f13-c742-ecbd44a343b7"
      },
      "execution_count": null,
      "outputs": [
        {
          "output_type": "stream",
          "name": "stdout",
          "text": [
            "Enter your name: Satyam\n",
            "Its possible that he/she is a student\n"
          ]
        }
      ]
    },
    {
      "cell_type": "code",
      "source": [
        "name = input(\"Enter your name: \")\n",
        "\n",
        "if name == \"Sunny Bhaveen Chandra\":\n",
        "    print(\"He is the mentor\")\n",
        "else:\n",
        "    print(\"Its possible that he/she is a student\")"
      ],
      "metadata": {
        "colab": {
          "base_uri": "https://localhost:8080/"
        },
        "id": "FGmiFeF2YKaq",
        "outputId": "120f5457-d5bd-4128-cddc-75822e322a08"
      },
      "execution_count": null,
      "outputs": [
        {
          "output_type": "stream",
          "name": "stdout",
          "text": [
            "Enter your name: Sunny Chandra\n",
            "Its possible that he/she is a student\n"
          ]
        }
      ]
    },
    {
      "cell_type": "code",
      "source": [
        "name = input(\"Enter your name: \")\n",
        "\n",
        "if name == \"Sunny Bhaveen Chandra\":\n",
        "    print(f\"He is the mentor\")\n",
        "else:\n",
        "    print(f\"Its possible that he/she is a student\")"
      ],
      "metadata": {
        "colab": {
          "base_uri": "https://localhost:8080/"
        },
        "id": "4UZsmCHxYFKg",
        "outputId": "45999409-9786-42a9-aadd-d9280a3d279d"
      },
      "execution_count": null,
      "outputs": [
        {
          "output_type": "stream",
          "name": "stdout",
          "text": [
            "Enter your name: sunny bhaveen chandra\n",
            "Its possible that he/she is a student\n"
          ]
        }
      ]
    },
    {
      "cell_type": "markdown",
      "source": [
        "### Comparision\n",
        "\n",
        "Operation | Meaning\n",
        "- | -\n",
        "< | A < B\n",
        "<= | A <= B\n",
        "> | A > B\n",
        ">= | A >= B"
      ],
      "metadata": {
        "id": "7snhIpNfadam"
      }
    },
    {
      "cell_type": "code",
      "source": [
        "attendance = 75\n",
        "assignment_submitted = 70\n",
        "\n",
        "print(f\"attendence criteria met? : {attendance >= 75}\")\n",
        "print(f\"assignment criteria met? : {assignment_submitted >= 70}\")\n",
        "\n",
        "if attendance >= 75 and assignment_submitted >= 70:\n",
        "    print(\"The student is eligible to appear in final exam\")\n",
        "else:\n",
        "    print(\"The student is not eligible\")"
      ],
      "metadata": {
        "colab": {
          "base_uri": "https://localhost:8080/"
        },
        "id": "9KsFW3RVYQVV",
        "outputId": "360e0e15-8016-4070-c530-429313e76c8a"
      },
      "execution_count": null,
      "outputs": [
        {
          "output_type": "stream",
          "name": "stdout",
          "text": [
            "attendence criteria met? : True\n",
            "assignment criteria met? : True\n",
            "The student is eligible to appear in final exam\n"
          ]
        }
      ]
    },
    {
      "cell_type": "code",
      "source": [
        "your_score = 40\n",
        "passing_marks = 33.33\n",
        "\n",
        "if your_score >= 33.33:\n",
        "    print(f\"Since you have scored: {your_score}, you have passed the exams!\")\n",
        "else:\n",
        "    print(\"Dad: You should have taken things seriously!\")\n"
      ],
      "metadata": {
        "colab": {
          "base_uri": "https://localhost:8080/"
        },
        "id": "gEYIavG5bNAJ",
        "outputId": "412185b6-f32b-47ab-c075-4fd308ef0326"
      },
      "execution_count": null,
      "outputs": [
        {
          "output_type": "stream",
          "name": "stdout",
          "text": [
            "Since you have scored: 40, you have passed the exams!\n"
          ]
        }
      ]
    },
    {
      "cell_type": "code",
      "source": [
        "your_score = 30\n",
        "passing_marks = 33.33\n",
        "\n",
        "if your_score >= 33.33:\n",
        "    print(f\"Since you have scored: {your_score}, you have passed the exams!\")\n",
        "else:\n",
        "    print(\"Dad: You should have taken things seriously!\")\n"
      ],
      "metadata": {
        "colab": {
          "base_uri": "https://localhost:8080/"
        },
        "id": "PgAen11bb9S_",
        "outputId": "04954355-8ba6-49f9-f492-c70673c4d1b2"
      },
      "execution_count": null,
      "outputs": [
        {
          "output_type": "stream",
          "name": "stdout",
          "text": [
            "Dad: You should have taken things seriously!\n"
          ]
        }
      ]
    },
    {
      "cell_type": "code",
      "source": [
        "your_score = 33.33\n",
        "passing_marks = 33.33\n",
        "\n",
        "if your_score > 33.33: # strict case\n",
        "    print(f\"Since you have scored: {your_score}, you have passed the exams!\")\n",
        "else:\n",
        "    print(\"Dad: You should have taken things seriously!\")"
      ],
      "metadata": {
        "colab": {
          "base_uri": "https://localhost:8080/"
        },
        "id": "DUunfuWrcB0J",
        "outputId": "8c1c4a6e-a9d2-422e-8624-eae66e85f67b"
      },
      "execution_count": null,
      "outputs": [
        {
          "output_type": "stream",
          "name": "stdout",
          "text": [
            "Dad: You should have taken things seriously!\n"
          ]
        }
      ]
    },
    {
      "cell_type": "code",
      "source": [
        "your_score = 33.33\n",
        "passing_marks = 33.33\n",
        "distinction_marks = 75\n",
        "\n",
        "if your_score >= 33.33: # strict case\n",
        "    print(f\"Since you have scored: {your_score}, you have passed the exams!\")\n",
        "    if your_score > distinction_marks:\n",
        "        print(\"Dad: I will buy you a bike! Well Done!!\")\n",
        "else:\n",
        "    print(\"Dad: You should have taken things seriously!\")"
      ],
      "metadata": {
        "colab": {
          "base_uri": "https://localhost:8080/"
        },
        "id": "ELPgrj8PcJRU",
        "outputId": "af2c2941-7706-4cb1-8de7-279d452d2734"
      },
      "execution_count": null,
      "outputs": [
        {
          "output_type": "stream",
          "name": "stdout",
          "text": [
            "Since you have scored: 33.33, you have passed the exams!\n"
          ]
        }
      ]
    },
    {
      "cell_type": "code",
      "source": [
        "your_score = 90\n",
        "passing_marks = 33.33\n",
        "distinction_marks = 75\n",
        "\n",
        "if your_score > 33.33: # strict case\n",
        "    print(f\"Since you have scored: {your_score}, you have passed the exams!\")\n",
        "    if your_score > distinction_marks:\n",
        "        print(\"Dad: I will buy you a bike! Well Done!!\")\n",
        "else:\n",
        "    print(\"Dad: You should have taken things seriously!\")"
      ],
      "metadata": {
        "colab": {
          "base_uri": "https://localhost:8080/"
        },
        "id": "K8Ezzw7NcvJm",
        "outputId": "52b5ed45-9aa4-4d05-924e-29e635d9bf3f"
      },
      "execution_count": null,
      "outputs": [
        {
          "output_type": "stream",
          "name": "stdout",
          "text": [
            "Since you have scored: 90, you have passed the exams!\n",
            "Dad: I will buy you a bike! Well Done!!\n"
          ]
        }
      ]
    },
    {
      "cell_type": "code",
      "source": [
        "your_score = 60\n",
        "passing_marks = 33.33\n",
        "distinction_marks = 75\n",
        "\n",
        "if your_score > 33.33: # strict case\n",
        "    print(f\"Since you have scored: {your_score}, you have passed the exams!\")\n",
        "    if your_score > distinction_marks:\n",
        "        print(\"Dad: I will buy you a bike! Well Done!!\")\n",
        "    else:\n",
        "        print(\"Dad: Better luck next time!\")\n",
        "else:\n",
        "    print(\"Dad: You should have taken things seriously!\")"
      ],
      "metadata": {
        "colab": {
          "base_uri": "https://localhost:8080/"
        },
        "id": "WsbzPL-Dc1FQ",
        "outputId": "dba43b56-d8dc-4615-a758-793ca6fc1221"
      },
      "execution_count": null,
      "outputs": [
        {
          "output_type": "stream",
          "name": "stdout",
          "text": [
            "Since you have scored: 60, you have passed the exams!\n",
            "Dad: Better luck next time!\n"
          ]
        }
      ]
    },
    {
      "cell_type": "code",
      "source": [],
      "metadata": {
        "id": "9iarO2WDdAst"
      },
      "execution_count": null,
      "outputs": []
    }
  ]
}