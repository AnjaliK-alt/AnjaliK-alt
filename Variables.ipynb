{
  "cells": [
    {
      "cell_type": "markdown",
      "metadata": {
        "id": "2lkqyqgueglD"
      },
      "source": [
        "## **Variables in Python**"
      ]
    },
    {
      "cell_type": "code",
      "execution_count": null,
      "metadata": {
        "colab": {
          "base_uri": "https://localhost:8080/"
        },
        "id": "PaV21Ztwep9W",
        "outputId": "df1fc92f-c0fe-4936-ee06-2db7865f5bca"
      },
      "outputs": [
        {
          "name": "stdout",
          "output_type": "stream",
          "text": [
            "<class 'int'>\n"
          ]
        }
      ],
      "source": [
        "a=22\n",
        "print(type(a))"
      ]
    },
    {
      "cell_type": "code",
      "execution_count": null,
      "metadata": {
        "colab": {
          "base_uri": "https://localhost:8080/",
          "height": 35
        },
        "id": "P8J9vUTpe9LR",
        "outputId": "d88f35e2-eed4-4018-d85a-30cb06fa02ed"
      },
      "outputs": [
        {
          "data": {
            "application/vnd.google.colaboratory.intrinsic+json": {
              "type": "string"
            },
            "text/plain": [
              "'Day1'"
            ]
          },
          "execution_count": 2,
          "metadata": {},
          "output_type": "execute_result"
        }
      ],
      "source": [
        "\"Day\" + \"1\""
      ]
    },
    {
      "cell_type": "code",
      "execution_count": null,
      "metadata": {
        "colab": {
          "base_uri": "https://localhost:8080/"
        },
        "id": "ydiCgQOqlUrU",
        "outputId": "b679ad03-6de7-4753-e45a-5f3be35f1fdb"
      },
      "outputs": [
        {
          "name": "stdout",
          "output_type": "stream",
          "text": [
            "36\n"
          ]
        }
      ],
      "source": [
        "a=24\n",
        "b=12\n",
        "print((int(a+b)))"
      ]
    },
    {
      "cell_type": "markdown",
      "metadata": {
        "id": "WFhVGaDdlfpx"
      },
      "source": [
        "### User Input"
      ]
    },
    {
      "cell_type": "code",
      "execution_count": null,
      "metadata": {
        "colab": {
          "base_uri": "https://localhost:8080/"
        },
        "id": "XLiGshQjljsF",
        "outputId": "c7b7b699-15a3-488d-87ea-8bcf384b9c32"
      },
      "outputs": [
        {
          "name": "stdout",
          "output_type": "stream",
          "text": [
            "Enter your name: Anjali\n",
            "You have entered: Anjali\n"
          ]
        }
      ],
      "source": [
        "x=input(\"Enter your name: \")\n",
        "print(f\"You have entered: {x}\")"
      ]
    },
    {
      "cell_type": "code",
      "execution_count": null,
      "metadata": {
        "colab": {
          "base_uri": "https://localhost:8080/"
        },
        "id": "oMvPaUKbqbW3",
        "outputId": "1a69f8ab-6982-4ec9-a1d5-bea2a0f51cfd"
      },
      "outputs": [
        {
          "name": "stdout",
          "output_type": "stream",
          "text": [
            "Enter value of A: 12\n",
            "Enter value of B: 10\n",
            "sum of A and B is:1210\n"
          ]
        }
      ],
      "source": [
        "A = input(\"Enter value of A: \")\n",
        "B = input(\"Enter value of B: \")\n",
        "print(f\"sum of A and B is:{A+B}\")"
      ]
    },
    {
      "cell_type": "markdown",
      "metadata": {
        "id": "jbTvPHcdtmOM"
      },
      "source": [
        "# Type Casting"
      ]
    },
    {
      "cell_type": "code",
      "execution_count": null,
      "metadata": {
        "colab": {
          "base_uri": "https://localhost:8080/"
        },
        "id": "3131BQLQtqfN",
        "outputId": "8e1e205a-7e4b-41d3-bc0c-6d3e110fbe8e"
      },
      "outputs": [
        {
          "name": "stdout",
          "output_type": "stream",
          "text": [
            "data type before: <class 'str'>\n",
            "data type after:<class 'int'>\n"
          ]
        }
      ],
      "source": [
        " #String to integer\n",
        "A =\"50\"\n",
        "print(f\"data type before: {type(A)}\")\n",
        "A = int(\"50\")\n",
        "print(f\"data type after:{type(A)}\")"
      ]
    },
    {
      "cell_type": "code",
      "execution_count": null,
      "metadata": {
        "colab": {
          "base_uri": "https://localhost:8080/"
        },
        "id": "KlXHZR-E4PD9",
        "outputId": "fc5efabe-1c53-4191-a49f-24f6dbe46843"
      },
      "outputs": [
        {
          "name": "stdout",
          "output_type": "stream",
          "text": [
            "data type before:<class 'int'>, value of A: 50\n",
            "data type after:<class 'float'>, value of A: 50.0\n"
          ]
        }
      ],
      "source": [
        "#Integer to float\n",
        "A=50\n",
        "print(f\"data type before:{type(A)}, value of A: {A}\")\n",
        "A=float(A)\n",
        "print(f\"data type after:{type(A)}, value of A: {A}\")"
      ]
    },
    {
      "cell_type": "code",
      "execution_count": null,
      "metadata": {
        "colab": {
          "base_uri": "https://localhost:8080/"
        },
        "id": "t_MuQjnq4yCt",
        "outputId": "77a24cbc-503e-472f-d1a8-0c341423dded"
      },
      "outputs": [
        {
          "name": "stdout",
          "output_type": "stream",
          "text": [
            "data type before:<class 'str'>,value of A: \n",
            "data type after:<class 'bool'>,value of A:True\n"
          ]
        }
      ],
      "source": [
        "#Empty string to boolean\n",
        "A=\" \"\n",
        "print(f\"data type before:{type(A)},value of A:{A}\")\n",
        "A=bool(A)\n",
        "print(f\"data type after:{type(A)},value of A:{A}\")"
      ]
    }
  ],
  "metadata": {
    "colab": {
      "provenance": []
    },
    "kernelspec": {
      "display_name": "Python 3",
      "name": "python3"
    },
    "language_info": {
      "name": "python"
    }
  },
  "nbformat": 4,
  "nbformat_minor": 0
}