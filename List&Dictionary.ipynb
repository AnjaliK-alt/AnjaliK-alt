{
  "nbformat": 4,
  "nbformat_minor": 0,
  "metadata": {
    "colab": {
      "provenance": []
    },
    "kernelspec": {
      "name": "python3",
      "display_name": "Python 3"
    },
    "language_info": {
      "name": "python"
    }
  },
  "cells": [
    {
      "cell_type": "code",
      "execution_count": null,
      "metadata": {
        "colab": {
          "base_uri": "https://localhost:8080/"
        },
        "id": "XUhzYis8_IZX",
        "outputId": "e66d9d57-7783-4b00-eaf4-942c4ca68b12"
      },
      "outputs": [
        {
          "output_type": "stream",
          "name": "stdout",
          "text": [
            "[2, 5, 8, 11, 14, 17, 20, 23, 26, 29, 32, 35, 38, 41, 44, 47, 50, 53, 56, 59, 62, 65, 68, 71, 74, 77, 80, 83, 86, 89, 92, 95, 98, 101, 104, 107, 110, 113, 116, 119, 122, 125, 128, 131, 134, 137, 140, 143, 146, 149, 152, 155, 158, 161, 164, 167, 170, 173, 176, 179, 182, 185, 188, 191, 194, 197, 200, 203, 206, 209, 212, 215, 218, 221, 224, 227, 230, 233, 236, 239, 242, 245, 248, 251, 254, 257, 260, 263, 266, 269, 272, 275, 278, 281, 284, 287, 290, 293, 296, 299]\n"
          ]
        }
      ],
      "source": [
        "#Try to extract data from index one to index 300 with a jump of 3\n",
        "data = list(range(1, 301))\n",
        "\n",
        "# Extract data from index 1 to 300 with a step of 3\n",
        "extracted_data = data[1:300:3]\n",
        "\n",
        "# Print the extracted data\n",
        "print(extracted_data)"
      ]
    },
    {
      "cell_type": "code",
      "source": [
        "#Try to reverse a string without using reverse function\n",
        "string = str(input(\"input a string for reverse:\"))\n",
        "reverse = string[::-1]\n",
        "print(reverse)"
      ],
      "metadata": {
        "colab": {
          "base_uri": "https://localhost:8080/"
        },
        "id": "kzsjLtLGA-TK",
        "outputId": "2f2fc6b0-19e7-4290-e943-28c5f630f5cc"
      },
      "execution_count": null,
      "outputs": [
        {
          "output_type": "stream",
          "name": "stdout",
          "text": [
            "input a string for reverse:Hello\n",
            "olleH\n"
          ]
        }
      ]
    },
    {
      "cell_type": "code",
      "source": [
        "#Try to split a string after conversion of entire string in uppercase\n",
        "string = input(\"Enter_a_String:\")\n",
        "upper_string = string.upper()\n",
        "new_string = upper_string.split()\n",
        "print(new_string)"
      ],
      "metadata": {
        "colab": {
          "base_uri": "https://localhost:8080/"
        },
        "id": "cEtIYr2fDqKW",
        "outputId": "6cc39973-53e8-4d50-d526-174805d5146d"
      },
      "execution_count": null,
      "outputs": [
        {
          "output_type": "stream",
          "name": "stdout",
          "text": [
            "Enter_a_String:im anjali jaiswal\n",
            "['IM', 'ANJALI', 'JAISWAL']\n"
          ]
        }
      ]
    },
    {
      "cell_type": "code",
      "source": [
        "upper_string.split(\"_\")"
      ],
      "metadata": {
        "colab": {
          "base_uri": "https://localhost:8080/"
        },
        "id": "ybINx6IqLAyR",
        "outputId": "72c41f47-9e3f-4aa2-877e-99e3d36694a6"
      },
      "execution_count": null,
      "outputs": [
        {
          "output_type": "execute_result",
          "data": {
            "text/plain": [
              "['IM ANJALI JAISWAL']"
            ]
          },
          "metadata": {},
          "execution_count": 30
        }
      ]
    },
    {
      "cell_type": "code",
      "source": [
        "#try to convert the whole string into lower case\n",
        "string = input(\"Enter a String:\")\n",
        "string.lower()"
      ],
      "metadata": {
        "colab": {
          "base_uri": "https://localhost:8080/",
          "height": 53
        },
        "id": "gP7pd1lzEQ-8",
        "outputId": "34031c42-c142-436c-8e7d-987cbeec6d8e"
      },
      "execution_count": null,
      "outputs": [
        {
          "name": "stdout",
          "output_type": "stream",
          "text": [
            "Enter a String:HII I'M ANJALI LEARNING DATA SCIENCE\n"
          ]
        },
        {
          "output_type": "execute_result",
          "data": {
            "text/plain": [
              "\"hii i'm anjali learning data science\""
            ],
            "application/vnd.google.colaboratory.intrinsic+json": {
              "type": "string"
            }
          },
          "metadata": {},
          "execution_count": 20
        }
      ]
    },
    {
      "cell_type": "markdown",
      "source": [
        "Try to give an example of expand tab- Used to give spaces in the sstring"
      ],
      "metadata": {
        "id": "0VQnTdrwGaXc"
      }
    },
    {
      "cell_type": "code",
      "source": [
        "original_string = \"Hello\\tWorld!\\tHow\\tare\\tyou?\"\n",
        "\n",
        "# Expand tabs with the default number of spaces (8)\n",
        "expanded_string_default = original_string.expandtabs()\n",
        "\n",
        "# Expand tabs with 4 spaces\n",
        "expanded_string_4 = original_string.expandtabs(4)\n",
        "\n",
        "# Expand tabs with 2 spaces\n",
        "expanded_string_2 = original_string.expandtabs(2)\n",
        "\n",
        "# Print the resulting strings\n",
        "print(\"Original string:\")\n",
        "print(original_string)\n",
        "print(\"\\nExpanded with default (8 spaces):\")\n",
        "print(expanded_string_default)\n",
        "print(\"\\nExpanded with 4 spaces:\")\n",
        "print(expanded_string_4)\n",
        "print(\"\\nExpanded with 2 spaces:\")\n",
        "print(expanded_string_2)"
      ],
      "metadata": {
        "id": "5KJiKjwuG5nq"
      },
      "execution_count": null,
      "outputs": []
    },
    {
      "cell_type": "code",
      "source": [
        "#Give an example of strip , lstrip and rstrip\n",
        "test = \"     im anjali    \"\n",
        "test.strip()#remove the spaces from both side of the text\n",
        "test.lstrip()#remove the spaces from left side\n",
        "test.rstrip()#remove the spaces from right side"
      ],
      "metadata": {
        "colab": {
          "base_uri": "https://localhost:8080/",
          "height": 35
        },
        "id": "CFqshrbRHOfz",
        "outputId": "4ff4e729-cb71-4b0b-c58d-03e8c7b6fc7d"
      },
      "execution_count": null,
      "outputs": [
        {
          "output_type": "execute_result",
          "data": {
            "text/plain": [
              "'im anjali'"
            ],
            "application/vnd.google.colaboratory.intrinsic+json": {
              "type": "string"
            }
          },
          "metadata": {},
          "execution_count": 21
        }
      ]
    },
    {
      "cell_type": "code",
      "source": [
        "#Replace a string charecter by another charector by taking your own example\n",
        "name = \"Sabhyanjali\"\n",
        "name.replace(\"a\",\"s\")"
      ],
      "metadata": {
        "colab": {
          "base_uri": "https://localhost:8080/",
          "height": 35
        },
        "id": "MoKxcudDIuXK",
        "outputId": "051856fe-fa72-41d4-8202-4e919840ae35"
      },
      "execution_count": null,
      "outputs": [
        {
          "output_type": "execute_result",
          "data": {
            "text/plain": [
              "'Ssbhysnjsli'"
            ],
            "application/vnd.google.colaboratory.intrinsic+json": {
              "type": "string"
            }
          },
          "metadata": {},
          "execution_count": 23
        }
      ]
    },
    {
      "cell_type": "code",
      "source": [
        "#Try  to give a defination of string center function with and exmple\n",
        "txt = \"Anjali\"\n",
        "\n",
        "x = txt.center(20) #Print the word \"banana\", taking up the space of 20 characters, with \"banana\" in the middle\n",
        "\n",
        "print(x)"
      ],
      "metadata": {
        "colab": {
          "base_uri": "https://localhost:8080/"
        },
        "id": "KTtVmX-UKJwf",
        "outputId": "f13a1d1d-37df-4f44-b0bb-23aaa07a3d34"
      },
      "execution_count": null,
      "outputs": [
        {
          "output_type": "stream",
          "name": "stdout",
          "text": [
            "       Anjali       \n"
          ]
        }
      ]
    },
    {
      "cell_type": "code",
      "source": [
        "l = [3,4,5,6,7 , [23,456,67,8,78,78] , [345,56,87,8,98,9] , (234,6657,6) , {\"key1\" :\"sudh\" , 234:[23,45,656]}]\n"
      ],
      "metadata": {
        "id": "1gP9OuE7fSbv"
      },
      "execution_count": null,
      "outputs": []
    },
    {
      "cell_type": "code",
      "source": [
        "l[::-1]"
      ],
      "metadata": {
        "colab": {
          "base_uri": "https://localhost:8080/"
        },
        "id": "AAUchVk5g2GN",
        "outputId": "0fa8a726-01f9-4ac0-ecae-5e7353cf2a17"
      },
      "execution_count": null,
      "outputs": [
        {
          "output_type": "execute_result",
          "data": {
            "text/plain": [
              "[{'key1': 'sudh', 234: [23, 45, 656]},\n",
              " (234, 6657, 6),\n",
              " [345, 56, 87, 8, 98, 9],\n",
              " [23, 456, 67, 8, 78, 78],\n",
              " 7,\n",
              " 6,\n",
              " 5,\n",
              " 4,\n",
              " 3]"
            ]
          },
          "metadata": {},
          "execution_count": 15
        }
      ]
    },
    {
      "cell_type": "code",
      "source": [
        "find = l[7][0]\n",
        "print(find)"
      ],
      "metadata": {
        "colab": {
          "base_uri": "https://localhost:8080/"
        },
        "id": "2HYoIvKChG-L",
        "outputId": "bb5c92a6-a106-4e6c-9b75-202d67e62bc6"
      },
      "execution_count": null,
      "outputs": [
        {
          "output_type": "stream",
          "name": "stdout",
          "text": [
            "234\n"
          ]
        }
      ]
    },
    {
      "cell_type": "code",
      "source": [
        "find = l[5][1]\n",
        "print(find)"
      ],
      "metadata": {
        "colab": {
          "base_uri": "https://localhost:8080/"
        },
        "id": "HGcK3wrtixDM",
        "outputId": "d93efc58-49db-4e4f-96fc-eb2d106b627d"
      },
      "execution_count": null,
      "outputs": [
        {
          "output_type": "stream",
          "name": "stdout",
          "text": [
            "456\n"
          ]
        }
      ]
    },
    {
      "cell_type": "code",
      "source": [
        "#extracting all the list collection from l\n",
        "list_collections = [item for item in l if isinstance(item, list)]\n",
        "\n",
        "print(list_collections)"
      ],
      "metadata": {
        "colab": {
          "base_uri": "https://localhost:8080/"
        },
        "id": "IUrNHroYkEmU",
        "outputId": "b026f886-95b1-4a30-a248-0292c08fb4b9"
      },
      "execution_count": null,
      "outputs": [
        {
          "output_type": "stream",
          "name": "stdout",
          "text": [
            "[[23, 456, 67, 8, 78, 78], [345, 56, 87, 8, 98, 9]]\n"
          ]
        }
      ]
    },
    {
      "cell_type": "code",
      "source": [
        "for item in l:\n",
        "  if isinstance(item, list):\n",
        "    print(item)"
      ],
      "metadata": {
        "colab": {
          "base_uri": "https://localhost:8080/"
        },
        "id": "msCf3xOdldIa",
        "outputId": "fcbc686d-0a6d-45e1-9b6c-168d69821bdc"
      },
      "execution_count": null,
      "outputs": [
        {
          "output_type": "stream",
          "name": "stdout",
          "text": [
            "[23, 456, 67, 8, 78, 78]\n",
            "[345, 56, 87, 8, 98, 9]\n"
          ]
        }
      ]
    },
    {
      "cell_type": "code",
      "source": [
        "find = l[8]\n",
        "value = find[\"key1\"]\n",
        "print(value)"
      ],
      "metadata": {
        "colab": {
          "base_uri": "https://localhost:8080/"
        },
        "id": "ufnLIrHEl_Re",
        "outputId": "e14dd1ed-e465-4c33-c065-95b0c89cca17"
      },
      "execution_count": null,
      "outputs": [
        {
          "output_type": "stream",
          "name": "stdout",
          "text": [
            "sudh\n"
          ]
        }
      ]
    },
    {
      "cell_type": "code",
      "source": [
        "for item in l:\n",
        "  if isinstance(item, dict):\n",
        "    print(item)"
      ],
      "metadata": {
        "colab": {
          "base_uri": "https://localhost:8080/"
        },
        "id": "HHcYY0BknSJD",
        "outputId": "37ed5b01-b475-4b8b-d09c-4cd620fc9509"
      },
      "execution_count": null,
      "outputs": [
        {
          "output_type": "stream",
          "name": "stdout",
          "text": [
            "{'key1': 'sudh', 234: [23, 45, 656]}\n"
          ]
        }
      ]
    },
    {
      "cell_type": "code",
      "source": [
        "dictionary = l[8]\n",
        "\n",
        "# Extract all the values from the dictionary\n",
        "values = list(dictionary.values())\n",
        "\n",
        "print(values)"
      ],
      "metadata": {
        "colab": {
          "base_uri": "https://localhost:8080/"
        },
        "id": "XJ7LofdUnyym",
        "outputId": "bf64f05a-6e19-44d0-e0ba-b26433c240d4"
      },
      "execution_count": null,
      "outputs": [
        {
          "output_type": "stream",
          "name": "stdout",
          "text": [
            "['sudh', [23, 45, 656]]\n"
          ]
        }
      ]
    }
  ]
}